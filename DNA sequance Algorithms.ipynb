{
 "cells": [
  {
   "cell_type": "markdown",
   "id": "78504811",
   "metadata": {},
   "source": [
    "    \n",
    "<p style=\"text-align:center ; background-color:#F0FFF0;\">\n",
    "     <a href=\"https://github.com/MoustafaMaher-cyber\" target=\"_blank\" >    \n",
    "     <img src=\"website.pngىة.png\" width=\"250\" alt=\"Mustafa Maher Logo\" align=\"center\" />   \n",
    "     </a>\n",
    "</p>"
   ]
  },
  {
   "cell_type": "code",
   "execution_count": 1,
   "id": "59674aa9",
   "metadata": {},
   "outputs": [],
   "source": [
    "# making a function retrive the longest common prfix of two seqances\n",
    "def longestCommonPrefix(s1,s2):\n",
    "    i=0\n",
    "    while i<len(s1) and i<len(s2) and s1[i]==s2[i]:\n",
    "        i+=1\n",
    "    return s1[:i]"
   ]
  },
  {
   "cell_type": "code",
   "execution_count": 2,
   "id": "292b6c1f",
   "metadata": {},
   "outputs": [
    {
     "name": "stdout",
     "output_type": "stream",
     "text": [
      "TATAATTCGG\n"
     ]
    }
   ],
   "source": [
    "import random\n",
    "seq=''\n",
    "for _ in range(10):\n",
    "    seq+=random.choice('ACGT')\n",
    "print(seq)"
   ]
  },
  {
   "cell_type": "code",
   "execution_count": 3,
   "id": "1f2c06f6",
   "metadata": {},
   "outputs": [
    {
     "name": "stdout",
     "output_type": "stream",
     "text": [
      "GCGAACCCCTGTCTGCCACC\n"
     ]
    }
   ],
   "source": [
    "seq1 = ''.join([random.choice('ACGT') for _ in range(20)])\n",
    "print(seq1)"
   ]
  },
  {
   "cell_type": "code",
   "execution_count": 4,
   "id": "6e0999b4",
   "metadata": {},
   "outputs": [
    {
     "data": {
      "text/plain": [
       "''"
      ]
     },
     "execution_count": 4,
     "metadata": {},
     "output_type": "execute_result"
    }
   ],
   "source": [
    "longestCommonPrefix(seq,seq1)"
   ]
  },
  {
   "cell_type": "code",
   "execution_count": 5,
   "id": "cd79a088",
   "metadata": {},
   "outputs": [],
   "source": [
    "# making a function retrive the longest suffix of two sequance\n",
    "def longestsufix(s1,s2):\n",
    "    i=-1\n",
    "    while s1[i]==s2[i]:\n",
    "        i-=1\n",
    "        if i+len(s1)==0 or i+len(s2)==0:\n",
    "            if len(s1)>=len(s2):\n",
    "                return s2\n",
    "            else:\n",
    "                return s1\n",
    "    return s1[i+1:] "
   ]
  },
  {
   "cell_type": "code",
   "execution_count": 6,
   "id": "b83f0c01",
   "metadata": {},
   "outputs": [
    {
     "data": {
      "text/plain": [
       "'TATAATTCGG'"
      ]
     },
     "execution_count": 6,
     "metadata": {},
     "output_type": "execute_result"
    }
   ],
   "source": [
    "longestsufix(seq,seq1)"
   ]
  },
  {
   "cell_type": "code",
   "execution_count": 7,
   "id": "532bbfb7",
   "metadata": {},
   "outputs": [],
   "source": [
    "# making a function returns the revrse complement of a seq\n",
    "def reverseComplement(s):\n",
    "    complement={'A':'T','T':'A','G':'C','C':'G' , 'N':'N'}\n",
    "    t=''\n",
    "    for base in s:\n",
    "        t = complement[base] + t\n",
    "    return t"
   ]
  },
  {
   "cell_type": "code",
   "execution_count": 8,
   "id": "984c0d5c",
   "metadata": {},
   "outputs": [
    {
     "data": {
      "text/plain": [
       "'GCAT'"
      ]
     },
     "execution_count": 8,
     "metadata": {},
     "output_type": "execute_result"
    }
   ],
   "source": [
    "reverseComplement('ATGC')"
   ]
  },
  {
   "cell_type": "code",
   "execution_count": 9,
   "id": "db967ae2",
   "metadata": {},
   "outputs": [],
   "source": [
    "# making a function to read a fasta file containing a sequance\n",
    "def readGenom(filename):\n",
    "    genome=''\n",
    "    with open(filename,'r') as f:\n",
    "        for line in f:\n",
    "            if not line[0]=='>':\n",
    "                genome+= line.rstrip()\n",
    "    return genome"
   ]
  },
  {
   "cell_type": "code",
   "execution_count": 10,
   "id": "5c084dea",
   "metadata": {},
   "outputs": [],
   "source": [
    "genome=readGenom('lambda_virus.fa')"
   ]
  },
  {
   "cell_type": "code",
   "execution_count": 11,
   "id": "fcffe216",
   "metadata": {},
   "outputs": [
    {
     "data": {
      "text/plain": [
       "'GGGCGGCGAC'"
      ]
     },
     "execution_count": 11,
     "metadata": {},
     "output_type": "execute_result"
    }
   ],
   "source": [
    "genome[0:10]"
   ]
  },
  {
   "cell_type": "code",
   "execution_count": 12,
   "id": "5e99b515",
   "metadata": {},
   "outputs": [],
   "source": [
    "# making a function to read fastq files\n",
    "def readFastq(file):\n",
    "    seqeance=[]\n",
    "    qualities = []\n",
    "    with open(file,'r') as fh:\n",
    "        while True:\n",
    "            fh.readline()\n",
    "            seq=fh.readline().rstrip()\n",
    "            fh.readline()\n",
    "            qual=fh.readline().rstrip()\n",
    "            if len(seq) == 0:\n",
    "                break\n",
    "            seqeance.append(seq)\n",
    "            qualities.append(qual)\n",
    "    return seqeance , qualities\n",
    "seqs , quals = readFastq('SRR835775_1.first1000.fastq')"
   ]
  },
  {
   "cell_type": "code",
   "execution_count": 13,
   "id": "e664f276",
   "metadata": {},
   "outputs": [
    {
     "data": {
      "text/plain": [
       "'TAACCCTAACCCTAACCCTAACCCTAACCCTAACCCTAACCCTAACCCTAACCCTCACCCTAACCCTAACCCTAACCGTATCCGTCACCCTAACCCTAAC'"
      ]
     },
     "execution_count": 13,
     "metadata": {},
     "output_type": "execute_result"
    }
   ],
   "source": [
    "seqs[0]"
   ]
  },
  {
   "cell_type": "code",
   "execution_count": 14,
   "id": "814d47a8",
   "metadata": {},
   "outputs": [
    {
     "data": {
      "text/plain": [
       "'???B1ADDD8??BB+C?B+:AA883CEE8?C3@DDD3)?D2;DC?8?=BAD=@C@(.6.6=A?=?@##################################'"
      ]
     },
     "execution_count": 14,
     "metadata": {},
     "output_type": "execute_result"
    }
   ],
   "source": [
    "quals[0]"
   ]
  },
  {
   "cell_type": "code",
   "execution_count": 15,
   "id": "343eb1e4",
   "metadata": {},
   "outputs": [],
   "source": [
    "# making a function returning number of GC bases in a sequance and the position of each one\n",
    "def findGCByPos(reads):\n",
    "    gc = [0] * 100\n",
    "    totals = [0] * 100\n",
    "    for read in reads:\n",
    "        for i in range(len(read)):\n",
    "            if read[i] == 'G' or read[i] == 'C':\n",
    "                gc[i]+=1\n",
    "            totals[i]+=1\n",
    "    for i in range(len(gc)):\n",
    "        if totals[i]>0:\n",
    "            gc[i]/=float(totals[i])\n",
    "    return gc"
   ]
  },
  {
   "cell_type": "code",
   "execution_count": 16,
   "id": "e43053d8",
   "metadata": {},
   "outputs": [
    {
     "data": {
      "image/png": "[encoded data removed]",
      "text/plain": [
       "<Figure size 432x288 with 1 Axes>"
      ]
     },
     "metadata": {
      "needs_background": "light"
     },
     "output_type": "display_data"
    }
   ],
   "source": [
    "import matplotlib.pyplot as plt\n",
    "gc = findGCByPos(seqs)\n",
    "plt.plot(range(len(gc)),gc)\n",
    "plt.show()"
   ]
  },
  {
   "cell_type": "code",
   "execution_count": 17,
   "id": "edd55b87",
   "metadata": {},
   "outputs": [],
   "source": [
    "# implementing navie algorithm for finding maches between two sequances\n",
    "'''\n",
    " It compares first character of pattern with searchable text. If match is found,append the match index to a list . \n",
    " If match not found, counter of text is incremented to the next character.\n",
    " This process is repeated until the end of the text.\n",
    "'''\n",
    "def naive(p,t):\n",
    "    occuerances = []\n",
    "    for i in range(len(t)-len(p)+1):\n",
    "        match=True\n",
    "        for j in range(len(p)):\n",
    "            if not t[i+j] == p[j]:\n",
    "                match=False\n",
    "                break\n",
    "        if match:\n",
    "            occuerances.append(i)\n",
    "    return occuerances"
   ]
  },
  {
   "cell_type": "code",
   "execution_count": 18,
   "id": "df6945b2",
   "metadata": {},
   "outputs": [
    {
     "data": {
      "text/plain": [
       "[0, 5, 9]"
      ]
     },
     "execution_count": 18,
     "metadata": {},
     "output_type": "execute_result"
    }
   ],
   "source": [
    "t = 'AGCTTAGATAGC'\n",
    "p = 'AG'\n",
    "naive(p, t)"
   ]
  },
  {
   "cell_type": "code",
   "execution_count": 19,
   "id": "8b26be27",
   "metadata": {},
   "outputs": [
    {
     "data": {
      "text/plain": [
       "('AG', 'AG')"
      ]
     },
     "execution_count": 19,
     "metadata": {},
     "output_type": "execute_result"
    }
   ],
   "source": [
    "t[0:2],p[0:2]"
   ]
  },
  {
   "cell_type": "code",
   "execution_count": 20,
   "id": "0a8f3864",
   "metadata": {},
   "outputs": [
    {
     "data": {
      "text/plain": [
       "('AG', 'AG')"
      ]
     },
     "execution_count": 20,
     "metadata": {},
     "output_type": "execute_result"
    }
   ],
   "source": [
    "t[5:7],p[0:2]"
   ]
  },
  {
   "cell_type": "code",
   "execution_count": 21,
   "id": "cd22aced",
   "metadata": {},
   "outputs": [
    {
     "data": {
      "text/plain": [
       "('AG', 'AG')"
      ]
     },
     "execution_count": 21,
     "metadata": {},
     "output_type": "execute_result"
    }
   ],
   "source": [
    "t[9:11],p[0:2]"
   ]
  },
  {
   "cell_type": "code",
   "execution_count": 22,
   "id": "2b920255",
   "metadata": {},
   "outputs": [],
   "source": [
    "import random\n",
    "def generateReads(genome, numReads, readLen):\n",
    "    ''' Generate reads from random positions in the given genome. \n",
    "        creating an empty list of reads , get the start point randomly \n",
    "        by picking a num between 0 and the differance between the genome length and the read length - 1,\n",
    "        we get the read from strart point untill we reach the length of the expected reag \n",
    "        then append it to the reads\n",
    "    '''\n",
    "    reads = []\n",
    "    for _ in range(numReads):\n",
    "        start = random.randint(0, len(genome)-readLen) - 1\n",
    "        reads.append(genome[start : start+readLen])\n",
    "    return reads"
   ]
  },
  {
   "cell_type": "code",
   "execution_count": 23,
   "id": "2ee4cf29",
   "metadata": {},
   "outputs": [
    {
     "name": "stdout",
     "output_type": "stream",
     "text": [
      "100 / 100 reads matched the genome exactly!\n"
     ]
    }
   ],
   "source": [
    "genome=readGenom('phix.fa')\n",
    "reads = generateReads(genome,100,100)\n",
    "nummatch=0\n",
    "for r in reads:\n",
    "    matchs= naive(r , genome)\n",
    "    if len(matchs) > 0:\n",
    "        nummatch+=1\n",
    "print('%d / %d reads matched the genome exactly!' % (nummatch, len(reads)))"
   ]
  },
  {
   "cell_type": "code",
   "execution_count": 24,
   "id": "347a3226",
   "metadata": {},
   "outputs": [],
   "source": [
    "def naive_with_rc(reads,genome):\n",
    "    '''\n",
    "     Here we giving naive searching algorthim the ability to search for the reverse complement of the reads\n",
    "     with its ability to search for straightforward complement, \n",
    "     it will return the occuerances of normal seq or its complement.\n",
    "    '''\n",
    "    numMatched = 0\n",
    "    n=0\n",
    "    for r in reads:\n",
    "        matchs=naive(r,genome)\n",
    "        matchs.extend(naive(reverseComplement(r),genome))\n",
    "        n+=1\n",
    "        if len(matchs)>0:\n",
    "            numMatched+=1\n",
    "    return numMatched"
   ]
  },
  {
   "cell_type": "code",
   "execution_count": 25,
   "id": "748df651",
   "metadata": {},
   "outputs": [],
   "source": [
    "# ordinary naive search algorthim\n",
    "def naive1(reads,genome):\n",
    "    numMatched = 0\n",
    "    n=0\n",
    "    for r in reads:\n",
    "        matchs=naive(r,genome)\n",
    "        n+=1\n",
    "        if len(matchs)>0:\n",
    "            numMatched+=1\n",
    "    return numMatched"
   ]
  },
  {
   "cell_type": "code",
   "execution_count": 26,
   "id": "168425b4",
   "metadata": {},
   "outputs": [],
   "source": [
    "genome=readGenom('lambda_virus (1).fa')"
   ]
  },
  {
   "cell_type": "code",
   "execution_count": 27,
   "id": "dc1a5e48",
   "metadata": {},
   "outputs": [
    {
     "data": {
      "text/plain": [
       "8"
      ]
     },
     "execution_count": 27,
     "metadata": {},
     "output_type": "execute_result"
    }
   ],
   "source": [
    "naive_with_rc('AGGTCCGT',genome)"
   ]
  },
  {
   "cell_type": "code",
   "execution_count": 28,
   "id": "ab5592be",
   "metadata": {},
   "outputs": [
    {
     "data": {
      "text/plain": [
       "8"
      ]
     },
     "execution_count": 28,
     "metadata": {},
     "output_type": "execute_result"
    }
   ],
   "source": [
    "naive1('AGGTCCGT',genome)"
   ]
  },
  {
   "cell_type": "code",
   "execution_count": 29,
   "id": "b8c5a1ab",
   "metadata": {},
   "outputs": [],
   "source": [
    "def naive_2mm(p, t,n):\n",
    "    '''\n",
    "     modifing naive search giving one condition if mismatching exceted a number n it will break returning the maches before.\n",
    "    '''\n",
    "    occurrences = []\n",
    "    for i in range(len(t) - len(p) + 1):  # loop over alignments\n",
    "        match = True\n",
    "        mismatches = 0\n",
    "        for j in range(len(p)):  # loop over characters\n",
    "            if t[i+j] != p[j]:  # compare characters\n",
    "                mismatches += 1\n",
    "                if mismatches > n:\n",
    "                    match = False\n",
    "                    break\n",
    "        if match:\n",
    "            occurrences.append(i)  # all chars matched; record\n",
    "    return occurrences"
   ]
  },
  {
   "cell_type": "code",
   "execution_count": 30,
   "id": "52ca7d5d",
   "metadata": {},
   "outputs": [
    {
     "data": {
      "text/plain": [
       "11"
      ]
     },
     "execution_count": 30,
     "metadata": {},
     "output_type": "execute_result"
    }
   ],
   "source": [
    "n1=naive_2mm('AGGTCCGT',genome,1)\n",
    "len(n1)"
   ]
  },
  {
   "cell_type": "code",
   "execution_count": 31,
   "id": "bf03cbd7",
   "metadata": {},
   "outputs": [
    {
     "data": {
      "text/plain": [
       "140"
      ]
     },
     "execution_count": 31,
     "metadata": {},
     "output_type": "execute_result"
    }
   ],
   "source": [
    "n2=naive_2mm('AGGTCCGT',genome,2)\n",
    "len(n2)"
   ]
  },
  {
   "cell_type": "code",
   "execution_count": 32,
   "id": "9d0ed1b2",
   "metadata": {},
   "outputs": [],
   "source": [
    "def naive_with_rc_first(p, t):\n",
    "    \"\"\"First, implement a version of the naive exact matching algorithm that is strand-aware. \n",
    "    That is, instead of looking only for occurrences of P in T, additionally look for occurrences of the reverse \n",
    "    complement of P in T. If P is ACT, your function should find occurrences of both ACT and its reverse complement AGT in T.\"\"\"\n",
    "    occurrences = naive(p, t)\n",
    "    more_occurenences = naive(reverseComplement(p), t)\n",
    "    return occurrences + more_occurenences"
   ]
  },
  {
   "cell_type": "code",
   "execution_count": 33,
   "id": "af2d881a",
   "metadata": {},
   "outputs": [],
   "source": [
    "def naive_with_rc_then(p, t):\n",
    "    \"\"\"If P and its reverse complement are identical (e.g. AACGTT), then a given match offset \n",
    "    should be reported only once. So if your new function is called naive_with_rc, then the old naive \n",
    "    function and your new naive_with_rc function should return the same results when P equals its reverse complement.\"\"\"\n",
    "    occurrences = naive(p, t)\n",
    "    revP = reverseComplement(p)\n",
    "    if p == revP:\n",
    "        return occurrences\n",
    "    else:\n",
    "        more_occurenences = naive(revP, t)\n",
    "        return occurrences + more_occurenences"
   ]
  },
  {
   "cell_type": "code",
   "execution_count": 34,
   "id": "0b304efa",
   "metadata": {},
   "outputs": [],
   "source": [
    "# shorter implementation of naive with reverce complement algo.\n",
    "def naive_with_rc(p, t):\n",
    "    return naive_with_rc_then(p, t)"
   ]
  },
  {
   "cell_type": "markdown",
   "id": "67abac9c",
   "metadata": {},
   "source": [
    "<p>Boyer Moore algorithm  preprocesses the pattern. \n",
    "Boyer Moore is a combination of the following two approaches. \n",
    "</p>\n",
    "<ul>\n",
    "    <li>Bad Character Rule </li>\n",
    "    <li>Good Suffix Rule </li>\n",
    "</ul>\n",
    "<p>\n",
    "Both of the above roles can also be used independently to search a pattern in a text. Let us first understand how two independent approaches work together in the Boyer Moore algorithm. If we take a look at the Naive algorithm, it slides the pattern over the text one by one.The Boyer Moore algorithm processes the pattern and creates different arrays for each of the two roles. At every step, it slides the pattern by the max of the slides suggested by each of the two roles. So it uses greatest offset suggested by the two roles at every step.Boyer Moore algorithm starts matching from the last character of the pattern.\n",
    "</p>    "
   ]
  },
  {
   "cell_type": "markdown",
   "id": "1ab34251",
   "metadata": {},
   "source": [
    "###  Bad Character Rule\n",
    "<p>\n",
    "    The idea of bad character role is simple. The character of the text which doesn’t match with the current character of the       pattern is called the Bad Character. Upon mismatch, we shift the pattern until – </p> \n",
    "<ul>\n",
    "    <li>The mismatch becomes a match.</li>\n",
    "    <li>Pattern P moves past the mismatched character.</li>\n",
    "</ul> "
   ]
  },
  {
   "cell_type": "markdown",
   "id": "6ff631cd",
   "metadata": {},
   "source": [
    "#### Case 1 – Mismatch become match \n",
    "<p>\n",
    "    We will lookup the position of the last occurrence of the mismatched character in the pattern, and if the mismatched character exists in the pattern, then we’ll shift the pattern such that it becomes aligned to the mismatched character in the text T. \n",
    "</p>\n",
    "<img src=\"bad_match_role_case_1.jpg\" width=\"500\" alt=\"Mustafa Maher Logo\" align=\"center\" />"
   ]
  },
  {
   "cell_type": "markdown",
   "id": "e7265b2e",
   "metadata": {},
   "source": [
    "#### Case 2 – Pattern move past the mismatch character \n",
    "<p>We’ll lookup the position of last occurrence of mismatching character in pattern and if character does not exist we will shift pattern past the mismatching character</p>\n",
    "<img src=\"bad_match_role_case_2.jpg\" width=\"500\" alt=\"Mustafa Maher Logo\" align=\"center\" />"
   ]
  },
  {
   "cell_type": "markdown",
   "id": "8af63003",
   "metadata": {},
   "source": [
    "### Good Suffix Rule\n",
    "\n",
    "Let t be substring of text T which is matched with substring of pattern P. Now we shift pattern until :\n",
    "1) Another occurrence of t in P matched with t in T.\n",
    "2) A prefix of P, which matches with suffix of t\n",
    "3) P moves past t"
   ]
  },
  {
   "cell_type": "markdown",
   "id": "b8956b73",
   "metadata": {},
   "source": [
    "#### Case 1: Another occurrence of t in P matched with t in T\n",
    "Pattern P might contain few more occurrences of t. In such case, we will try to shift the pattern to align that occurrence with t in text T. For example-\n",
    "<img src=\"1-36.jpg\" width=\"500\" alt=\"Mustafa Maher Logo\" align=\"center\" />"
   ]
  },
  {
   "cell_type": "markdown",
   "id": "3a268782",
   "metadata": {},
   "source": [
    "#### Case 2: A prefix of P, which matches with suffix of t in T\n",
    "<p>It is not always likely that we will find the occurrence of t in P. Sometimes there is no occurrence at all, in such cases sometimes we can search for some suffix of t matching with some prefix of P and try to align them by shifting P. For example –</p>\n",
    "<img src=\"2-32.jpg\" width=\"500\" alt=\"Mustafa Maher Logo\" align=\"center\" />"
   ]
  },
  {
   "cell_type": "markdown",
   "id": "50836faf",
   "metadata": {},
   "source": [
    "#### Case 3: P moves past t\n",
    "<p>If the above two cases are not satisfied, we will shift the pattern past the t. For example –</p>\n",
    "<img src=\"3-19.jpg\" width=\"500\" alt=\"Mustafa Maher Logo\" align=\"center\" />"
   ]
  },
  {
   "cell_type": "markdown",
   "id": "8b98a136",
   "metadata": {},
   "source": [
    "the following functions are a basic functions used for boyer moore algorithm \n",
    "reference: Gusfield, Dan. Algorithms on strings, trees and sequences: computer science and computational biology. Cambridge university press, 1997."
   ]
  },
  {
   "cell_type": "code",
   "execution_count": 38,
   "id": "b252d552",
   "metadata": {},
   "outputs": [],
   "source": [
    "import string\n",
    "\n",
    "def z_array(s):\n",
    "    \"\"\" Use Z algorithm (Gusfield theorem 1.4.1) to preprocess s \"\"\"\n",
    "    assert len(s) > 1\n",
    "    z = [len(s)] + [0] * (len(s)-1)\n",
    "    # Initial comparison of s[1:] with prefix\n",
    "    for i in range(1, len(s)):\n",
    "        if s[i] == s[i-1]:\n",
    "            z[1] += 1\n",
    "        else:\n",
    "            break\n",
    "    r, l = 0, 0\n",
    "    if z[1] > 0:\n",
    "        r, l = z[1], 1\n",
    "    for k in range(2, len(s)):\n",
    "        assert z[k] == 0\n",
    "        if k > r:\n",
    "            # Case 1\n",
    "            for i in range(k, len(s)):\n",
    "                if s[i] == s[i-k]:\n",
    "                    z[k] += 1\n",
    "                else:\n",
    "                    break\n",
    "            r, l = k + z[k] - 1, k\n",
    "        else:\n",
    "            # Case 2\n",
    "            # Calculate length of beta\n",
    "            nbeta = r - k + 1\n",
    "            zkp = z[k - l]\n",
    "            if nbeta > zkp:\n",
    "                # Case 2a: Zkp wins\n",
    "                z[k] = zkp\n",
    "            else:\n",
    "                # Case 2b: Compare characters just past r\n",
    "                nmatch = 0\n",
    "                for i in range(r+1, len(s)):\n",
    "                    if s[i] == s[i - k]:\n",
    "                        nmatch += 1\n",
    "                    else:\n",
    "                        break\n",
    "                l, r = k, r + nmatch\n",
    "                z[k] = r - k + 1\n",
    "    return z\n",
    "\n",
    "\n",
    "def n_array(s):\n",
    "    \"\"\" Compile the N array (Gusfield theorem 2.2.2) from the Z array \"\"\"\n",
    "    return z_array(s[::-1])[::-1]\n",
    "\n",
    "\n",
    "def big_l_prime_array(p, n):\n",
    "    \"\"\" Compile L' array (Gusfield theorem 2.2.2) using p and N array.\n",
    "        L'[i] = largest index j less than n such that N[j] = |P[i:]| \"\"\"\n",
    "    lp = [0] * len(p)\n",
    "    for j in range(len(p)-1):\n",
    "        i = len(p) - n[j]\n",
    "        if i < len(p):\n",
    "            lp[i] = j + 1\n",
    "    return lp\n",
    "\n",
    "\n",
    "def big_l_array(p, lp):\n",
    "    \"\"\" Compile L array (Gusfield theorem 2.2.2) using p and L' array.\n",
    "        L[i] = largest index j less than n such that N[j] >= |P[i:]| \"\"\"\n",
    "    l = [0] * len(p)\n",
    "    l[1] = lp[1]\n",
    "    for i in range(2, len(p)):\n",
    "        l[i] = max(l[i-1], lp[i])\n",
    "    return l\n",
    "\n",
    "\n",
    "def small_l_prime_array(n):\n",
    "    \"\"\" Compile lp' array (Gusfield theorem 2.2.4) using N array. \"\"\"\n",
    "    small_lp = [0] * len(n)\n",
    "    for i in range(len(n)):\n",
    "        if n[i] == i+1:  # prefix matching a suffix\n",
    "            small_lp[len(n)-i-1] = i+1\n",
    "    for i in range(len(n)-2, -1, -1):  # \"smear\" them out to the left\n",
    "        if small_lp[i] == 0:\n",
    "            small_lp[i] = small_lp[i+1]\n",
    "    return small_lp\n",
    "\n",
    "\n",
    "def good_suffix_table(p):\n",
    "    \"\"\" Return tables needed to apply good suffix rule. \"\"\"\n",
    "    n = n_array(p)\n",
    "    lp = big_l_prime_array(p, n)\n",
    "    return lp, big_l_array(p, lp), small_l_prime_array(n)\n",
    "\n",
    "\n",
    "def good_suffix_mismatch(i, big_l_prime, small_l_prime):\n",
    "    \"\"\" Given a mismatch at offset i, and given L/L' and l' arrays,\n",
    "        return amount to shift as determined by good suffix rule. \"\"\"\n",
    "    length = len(big_l_prime)\n",
    "    assert i < length\n",
    "    if i == length - 1:\n",
    "        return 0\n",
    "    i += 1  # i points to leftmost matching position of P\n",
    "    if big_l_prime[i] > 0:\n",
    "        return length - big_l_prime[i]\n",
    "    return length - small_l_prime[i]\n",
    "\n",
    "\n",
    "def good_suffix_match(small_l_prime):\n",
    "    \"\"\" Given a full match of P to T, return amount to shift as\n",
    "        determined by good suffix rule. \"\"\"\n",
    "    return len(small_l_prime) - small_l_prime[1]\n",
    "\n",
    "\n",
    "def dense_bad_char_tab(p, amap):\n",
    "    \"\"\" Given pattern string and list with ordered alphabet characters, create\n",
    "        and return a dense bad character table.  Table is indexed by offset\n",
    "        then by character. \"\"\"\n",
    "    tab = []\n",
    "    nxt = [0] * len(amap)\n",
    "    for i in range(0, len(p)):\n",
    "        c = p[i]\n",
    "        assert c in amap\n",
    "        tab.append(nxt[:])\n",
    "        nxt[amap[c]] = i+1\n",
    "    return tab\n",
    "    "
   ]
  },
  {
   "cell_type": "markdown",
   "id": "fdcf47d9",
   "metadata": {},
   "source": [
    "<p>\n",
    "    Here we will create a class BoyerMoore which contains three main functions (bad_character_rule,good_suffix_rule and match_skip)\n",
    "</p>"
   ]
  },
  {
   "cell_type": "code",
   "execution_count": 39,
   "id": "d9a54875",
   "metadata": {},
   "outputs": [],
   "source": [
    "class BoyerMoore(object):\n",
    "    \"\"\" Encapsulates pattern and associated Boyer-Moore preprocessing. \"\"\"\n",
    "    \n",
    "    def __init__(self, p, alphabet='ACGT'):\n",
    "        self.p = p\n",
    "        self.alphabet = alphabet\n",
    "        # Create map from alphabet characters to integers\n",
    "        self.amap = {}\n",
    "        for i in range(len(self.alphabet)):\n",
    "            self.amap[self.alphabet[i]] = i\n",
    "        # Make bad character rule table\n",
    "        self.bad_char = dense_bad_char_tab(p, self.amap)\n",
    "        # Create good suffix rule table\n",
    "        _, self.big_l, self.small_l_prime = good_suffix_table(p)\n",
    "    \n",
    "    def bad_character_rule(self, i, c):\n",
    "        \"\"\" Return # skips given by bad character rule at offset i \"\"\"\n",
    "        assert c in self.amap\n",
    "        ci = self.amap[c]\n",
    "        assert i > (self.bad_char[i][ci]-1)\n",
    "        return i - (self.bad_char[i][ci]-1)\n",
    "    \n",
    "    def good_suffix_rule(self, i):\n",
    "        \"\"\" Given a mismatch at offset i, return amount to shift\n",
    "            as determined by (weak) good suffix rule. \"\"\"\n",
    "        length = len(self.big_l)\n",
    "        assert i < length\n",
    "        if i == length - 1:\n",
    "            return 0\n",
    "        i += 1  # i points to leftmost matching position of P\n",
    "        if self.big_l[i] > 0:\n",
    "            return length - self.big_l[i]\n",
    "        return length - self.small_l_prime[i]\n",
    "    \n",
    "    def match_skip(self):\n",
    "        \"\"\" Return amount to shift in case where P matches T \"\"\"\n",
    "        return len(self.small_l_prime) - self.small_l_prime[1]"
   ]
  },
  {
   "cell_type": "code",
   "execution_count": 40,
   "id": "df44decf",
   "metadata": {},
   "outputs": [],
   "source": [
    "def boyer_moore(p, p_bm, t):\n",
    "    \"\"\" Do Boyer-Moore matching \"\"\"\n",
    "    i = 0\n",
    "    occurrences = []\n",
    "    while i < len(t) - len(p) + 1:\n",
    "        shift = 1\n",
    "        mismatched = False\n",
    "        for j in range(len(p)-1, -1, -1):\n",
    "            if p[j] != t[i+j]:\n",
    "                skip_bc = p_bm.bad_character_rule(j, t[i+j])\n",
    "                skip_gs = p_bm.good_suffix_rule(j)\n",
    "                shift = max(shift, skip_bc, skip_gs)\n",
    "                mismatched = True\n",
    "                break\n",
    "        if not mismatched:\n",
    "            occurrences.append(i)\n",
    "            skip_gs = p_bm.match_skip()\n",
    "            shift = max(shift, skip_gs)\n",
    "        i += shift\n",
    "    return occurrences"
   ]
  },
  {
   "cell_type": "code",
   "execution_count": 41,
   "id": "57c1b99a",
   "metadata": {},
   "outputs": [],
   "source": [
    "t = 'GCTAGCTCTACGAGTCTA'\n",
    "p = 'TCTA'\n",
    "p_bm = BoyerMoore(p, alphabet='ACGT')"
   ]
  },
  {
   "cell_type": "code",
   "execution_count": 42,
   "id": "5086c63c",
   "metadata": {},
   "outputs": [
    {
     "data": {
      "text/plain": [
       "[6, 14]"
      ]
     },
     "execution_count": 42,
     "metadata": {},
     "output_type": "execute_result"
    }
   ],
   "source": [
    "boyer_moore(p, p_bm, t)"
   ]
  },
  {
   "cell_type": "code",
   "execution_count": 43,
   "id": "31cccae1",
   "metadata": {},
   "outputs": [],
   "source": [
    "import bisect\n",
    "import sys\n",
    "'''\n",
    " Given two strings p and t, The task is to find if p is a substring of t. \n",
    " If yes append index of match to offset list\n",
    " first we create a class index which contain query function which returns index list for first k-mer of P\n",
    "'''\n",
    "class Index(object):\n",
    "    def __init__(self, t, k):\n",
    "        ''' Create index from all substrings of size 'length' '''\n",
    "        self.k = k  # k-mer length (k)\n",
    "        self.index = []\n",
    "        for i in range(len(t) - k + 1):  # for each k-mer\n",
    "            self.index.append((t[i:i+k], i))  # add (k-mer, offset) pair\n",
    "        self.index.sort()  # alphabetize by k-mer\n",
    "    \n",
    "    def query(self, p):\n",
    "        ''' Return index hits for first k-mer of P '''\n",
    "        kmer = p[:self.k]  # query with first k-mer\n",
    "        i = bisect.bisect_left(self.index, (kmer, -1))  # binary search\n",
    "        hits = []\n",
    "        while i < len(self.index):  # collect matching index entries\n",
    "            if self.index[i][0] != kmer:\n",
    "                break\n",
    "            hits.append(self.index[i][1])\n",
    "            i += 1\n",
    "        return hits"
   ]
  },
  {
   "cell_type": "code",
   "execution_count": 44,
   "id": "b7a5ec34",
   "metadata": {},
   "outputs": [],
   "source": [
    "def queryIndex(p, t, index):\n",
    "    k = index.k\n",
    "    offsets = []\n",
    "    for i in index.query(p):\n",
    "        if p[k:] == t[i+k:i+len(p)]:  # verify that rest of P matches\n",
    "            offsets.append(i)\n",
    "    return offsets"
   ]
  },
  {
   "cell_type": "code",
   "execution_count": 45,
   "id": "084d5210",
   "metadata": {},
   "outputs": [],
   "source": [
    "t = 'ACTTGGAGATCTTTGAGGCTAGGTATTCGGGATCGAAGCTCATTTCGGGGATCGATTACGATATGGTGGGTATTCGGGA'\n",
    "p = 'GGTATTCGGGA'"
   ]
  },
  {
   "cell_type": "code",
   "execution_count": 46,
   "id": "48e723a1",
   "metadata": {},
   "outputs": [
    {
     "name": "stdout",
     "output_type": "stream",
     "text": [
      "[21, 68]\n"
     ]
    }
   ],
   "source": [
    "index = Index(t, 4)\n",
    "print(queryIndex(p, t, index))"
   ]
  },
  {
   "cell_type": "code",
   "execution_count": 47,
   "id": "3d98f478",
   "metadata": {},
   "outputs": [],
   "source": [
    "'''\n",
    " approximate string matching  is the technique of finding strings that match a pattern approximately,\n",
    " first we divide the given string P into (n+1 -> not to overwrite the string t) sustrings \n",
    " then setting start search index and end search index then making a BoyerMoore object from the start to the end\n",
    " then get the matches using boyer_moore function then check if every element of the matches is less than the start index \n",
    " or the differance between the element and the start index from the last index of P string is greater than the length of string T\n",
    " if so we will continue to check the characters strating from index 0 till the start index if each character at each of these index in string p\n",
    " not equal the character of string t at index of element in matches - the start index + the index od that character if so \n",
    " we will increase the mismatches by 1 tiil it reachs the limited number of mismatches then we will break if mismaches does not exceed\n",
    " the limited number we add the index of differance between the match element and the start index to a set of matches \n",
    " finally we return the matches\n",
    "'''\n",
    "def approximate_match(p, t, n):\n",
    "    segment_length = int(round(len(p) / (n+1)))\n",
    "    all_matches = set()\n",
    "    for i in range(n+1):\n",
    "        start = i*segment_length\n",
    "        end = min((i+1)*segment_length, len(p))\n",
    "        p_bm = BoyerMoore(p[start:end], alphabet='ACGT')\n",
    "        matches = boyer_moore(p[start:end], p_bm, t)\n",
    "        # Extend matching segments to see if whole p matches\n",
    "        for m in matches:\n",
    "            if m < start or m-start+len(p) > len(t):\n",
    "                continue\n",
    "            mismatches = 0\n",
    "            for j in range(0, start):\n",
    "                if not p[j] == t[m-start+j]:\n",
    "                    mismatches += 1\n",
    "                    if mismatches > n:\n",
    "                        break\n",
    "            for j in range(end, len(p)):\n",
    "                if not p[j] == t[m-start+j]:\n",
    "                    mismatches += 1\n",
    "                    if mismatches > n:\n",
    "                        break\n",
    "            if mismatches <= n:\n",
    "                all_matches.add(m - start)\n",
    "    return list(all_matches)"
   ]
  },
  {
   "cell_type": "code",
   "execution_count": 48,
   "id": "b87b7adc",
   "metadata": {},
   "outputs": [
    {
     "name": "stdout",
     "output_type": "stream",
     "text": [
      "[0, 5]\n"
     ]
    }
   ],
   "source": [
    "p = 'AACTTG'\n",
    "t = 'CACTTAATTTG'\n",
    "print(approximate_match(p, t, 2))"
   ]
  },
  {
   "cell_type": "code",
   "execution_count": null,
   "id": "48b22401",
   "metadata": {},
   "outputs": [],
   "source": []
  }
 ],
 "metadata": {
  "kernelspec": {
   "display_name": "Python 3",
   "language": "python",
   "name": "python3"
  },
  "language_info": {
   "codemirror_mode": {
    "name": "ipython",
    "version": 3
   },
   "file_extension": ".py",
   "mimetype": "text/x-python",
   "name": "python",
   "nbconvert_exporter": "python",
   "pygments_lexer": "ipython3",
   "version": "3.9.4"
  }
 },
 "nbformat": 4,
 "nbformat_minor": 5
}
